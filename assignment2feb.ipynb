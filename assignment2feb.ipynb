{
 "cells": [
  {
   "cell_type": "markdown",
   "id": "201a51ac-6ec5-4864-888a-6decc456fa78",
   "metadata": {},
   "source": [
    "# Question1\n",
    "What are the characteristics of the tuples? Is tuple immutable?\n",
    "Tuple Characteristics and Immutability\n",
    "A tuple is an ordered, immutable, and heterogeneous collection of elements. Here are some key characteristics of tuples:\n",
    "• Order: Tuples are ordered collections of elements, meaning that the elements are stored in a specific order, and this order is preserved.\n",
    "• Immutability: Once a tuple is created, its elements cannot be changed. Tuples are immutable, which means you cannot add, remove, or modify elements in a tuple.\n",
    "• Heterogeneous elements: Tuples can contain elements of different data types, such as integers, strings, lists, and other tuples.\n",
    "• Indexing: Like lists, tuples can be accessed using indexing. You can retrieve elements of a tuple by using the square brackets [] and the index of the element you want to retrieve.\n",
    "• Iteration: You can iterate over the elements of a tuple using a for loop.\n",
    "• Named Tuples: Python provides a special class namedtuple() which can be used to give the tuple elements more meaningful names, rather than just using index numbers.\n",
    "In conclusion, tuples are a useful data structure for representing and manipulating small, fixed-size collections of ordered, immutable, and heterogeneous elements.\n",
    "\n",
    "# Question 2\n",
    "\n",
    "Tuples have two built-in methods in Python:\n",
    "\n",
    "count() method: This method returns the number of times a particular element appears in the tuple."
   ]
  },
  {
   "cell_type": "code",
   "execution_count": 1,
   "id": "ac1ff7f6-603a-4798-a58e-4de81ff28929",
   "metadata": {},
   "outputs": [
    {
     "name": "stdout",
     "output_type": "stream",
     "text": [
      "2\n"
     ]
    }
   ],
   "source": [
    "t = (1, 2, 3, 1, 2, 3)\n",
    "print(t.count(1))"
   ]
  },
  {
   "cell_type": "markdown",
   "id": "e2916f2a-4bb0-43a8-bcfa-3512896aafb9",
   "metadata": {},
   "source": [
    "index() method: This method returns the index of the first occurrence of a particular element in the tuple."
   ]
  },
  {
   "cell_type": "code",
   "execution_count": 2,
   "id": "4867d693-197d-4ec2-971d-5380112df3f8",
   "metadata": {},
   "outputs": [
    {
     "name": "stdout",
     "output_type": "stream",
     "text": [
      "1\n"
     ]
    }
   ],
   "source": [
    "t = (1, 2, 3, 1, 2, 3)\n",
    "print(t.index(2))"
   ]
  },
  {
   "cell_type": "markdown",
   "id": "1f7de6ea-e807-4141-ae66-6005e24449d1",
   "metadata": {},
   "source": [
    "The reason why tuples have only two built-in methods as compared to lists is that tuples are meant to be simple, fixed-size collections of elements. Tuples are often used to represent a small, fixed number of related values, such as the x, y, and z coordinates of a point in 3D space. The two built-in methods, count() and index(), are sufficient for most uses of tuples. On the other hand, lists are more flexible and intended for more complex data structures, and therefore have more built-in methods to support more advanced operations.\n",
    "\n",
    "# Question 3\n",
    "\n",
    "In Python, there are two collection datatypes that do not allow duplicate items: sets and dictionaries.\n",
    "• Sets: A set is an unordered collection of unique elements. It is defined using curly braces {} or the set() function.\n",
    "If you try to add a duplicate item to a set, it will not change the set, since sets only store unique elements.\n",
    "• Dictionaries: A dictionary is a collection of key-value pairs, where each key is unique. It is defined using curly braces {}.\n",
    "If you try to add a duplicate key to a dictionary, it will overwrite the value associated with the previous key. Dictionaries only store one value for each unique key."
   ]
  },
  {
   "cell_type": "code",
   "execution_count": 3,
   "id": "d2a37fba-f176-49cd-b58b-2a7a14b621fc",
   "metadata": {},
   "outputs": [
    {
     "name": "stdout",
     "output_type": "stream",
     "text": [
      "[1, 2, 3, 4]\n"
     ]
    }
   ],
   "source": [
    "List = [1, 1, 1, 2, 1, 3, 1, 4, 2, 1, 2, 2, 2, 3, 2, 4, 3, 1, 3, 2, 3, 3, 3, 4, 4, 1, 4, 2, 4, 3, 4, 4]\n",
    "# Convert the list to a set to remove duplicates\n",
    "List = set(List)\n",
    "# Convert the set back to a list\n",
    "List = list(List)\n",
    "print(List)\n",
    "# Output: [1, 2, 3, 4]\n"
   ]
  },
  {
   "cell_type": "code",
   "execution_count": 3,
   "id": "645dbc29-2ad8-4fae-940d-4b81ec29a162",
   "metadata": {},
   "outputs": [
    {
     "name": "stdout",
     "output_type": "stream",
     "text": [
      "{1, 2, 3, 4, 5}\n"
     ]
    }
   ],
   "source": [
    "##''Q4. Explain the difference between the union() and update() methods for a set. Give an example of each method.\n",
    "##The union() and update() methods are used to combine the elements of two sets into a single set in Python. However, there are some differences between the two methods:\n",
    "##• union() method: This method returns a new set that is the union of the two sets. The original sets are not modified. The union() method takes another set as an argument and returns a new set that contains all the unique elements from both sets.\n",
    "#• update() method: This method modifies the original set in place by adding all the elements from another set to it. The update() method takes another set as an argument and adds all the unique elements from that set to the original set.\n",
    "#In conclusion, the union() method returns a new set that is the union of two sets, while the update() method modifies the original set by adding the elements of another set to it. Both methods allow you to combine the elements of two sets into a single set, but the update() method modifies the original set in place, while the union() method returns a new set that is the union of the two sets.\n",
    "s1 = {1, 2, 3}\n",
    "s2 = {3, 4, 5}\n",
    "s3 = s1.union(s2)\n",
    "print(s3)"
   ]
  },
  {
   "cell_type": "code",
   "execution_count": 8,
   "id": "a9498786-a45f-4ef3-8107-5538a48508a1",
   "metadata": {},
   "outputs": [
    {
     "name": "stdout",
     "output_type": "stream",
     "text": [
      "{1, 2, 3, 4, 5}\n"
     ]
    }
   ],
   "source": [
    "s1 = {1, 2, 3}\n",
    "s2 = {3, 4, 5}\n",
    "s1.update(s2)\n",
    "print(s1)\n"
   ]
  },
  {
   "cell_type": "code",
   "execution_count": 9,
   "id": "2f073c69-5903-47ab-979d-04c693939ff5",
   "metadata": {},
   "outputs": [],
   "source": [
    "#Q5. What is a dictionary? Give an example. Also, state whether a dictionary is ordered or unordered.\n",
    "#A dictionary in Python is an unordered collection of key-value pairs, where each key is unique. Dictionaries are commonly used to store and retrieve values based on their associated keys. They are defined using curly braces {} and key-value pairs are separated by colons :\n",
    "#It is important to note that dictionaries are unordered, which means that the elements in a dictionary do not have a specific order. The order in which the elements are added to a dictionary does not determine the order in which they are stored. If you need to maintain the order of elements, you should use a different collection datatype, such as a list or an ordered dictionary.\n",
    "dict1={'key1':1242,'key2':'Rahul'}\n"
   ]
  },
  {
   "cell_type": "code",
   "execution_count": 11,
   "id": "d1b20b96-43fc-40c5-b5ee-c4ed9ca557a3",
   "metadata": {},
   "outputs": [
    {
     "name": "stdout",
     "output_type": "stream",
     "text": [
      "Rahlu\n"
     ]
    }
   ],
   "source": [
    "# Q6. Can we create a nested dictionary? If so, please give an example by creating a simple one-level nested dictionary.\n",
    "#Yes, you can create a nested dictionary in Python. A nested dictionary is a dictionary that contains one or more dictionaries as its values.\n",
    "#In this example, the outer dictionary nested_dict has two keys 'person1' and 'person2', and their values are dictionaries that contain information about two people. \n",
    "#You can access the nested dictionaries using the keys of the outer dictionary and then access the values in the nested dictionaries using their keys.\n",
    "nested_dict = {'person1': {'name': 'Rahlu', 'age': 23, 'gender': 'Male'},\n",
    "               'person2': {'name': 'sanwal', 'age': 28, 'gender': 'Female'}}\n",
    "\n",
    "print(nested_dict['person1']['name'])\n"
   ]
  },
  {
   "cell_type": "code",
   "execution_count": 12,
   "id": "c76c49f7-0cae-4ba9-bd8d-bda0fdaecf94",
   "metadata": {},
   "outputs": [
    {
     "name": "stdout",
     "output_type": "stream",
     "text": [
      "{'language': 'Python', 'course': 'Data Science Masters', 'topics': ['Python', 'Machine Learning', 'Deep Learning']}\n"
     ]
    }
   ],
   "source": [
    "#Q7. Using setdefault() method, create key named topics in the given dictionary and also add the value of the key as this list ['Python', 'Machine Learning', 'Deep Learning']\n",
    "#dict1 = {'language': 'Python', 'course': 'Data Science Masters'}\n",
    "#In this example, the setdefault() method is called on the dictionary dict1 with the key 'topics' and a default value of [] (an empty list).\n",
    "#If the key 'topics' does not exist in the dictionary, it will be created and set to the default value. If the key already exists in the dictionary, the current value will be returned. \n",
    "#In this case, the returned value is an empty list, which is then extended with the value ['Python', 'Machine Learning', 'Deep Learning']. The final result is that the dictionary dict1 now contains a key 'topics' with the value ['Python', 'Machine Learning', 'Deep Learning'].\n",
    "dict1 = {'language': 'Python', 'course': 'Data Science Masters'}\n",
    "dict1.setdefault('topics', []).extend(['Python', 'Machine Learning', 'Deep Learning'])\n",
    "print(dict1)"
   ]
  },
  {
   "cell_type": "code",
   "execution_count": 10,
   "id": "b69943ec-21e8-4f38-8752-a9dd92849def",
   "metadata": {},
   "outputs": [
    {
     "name": "stdout",
     "output_type": "stream",
     "text": [
      "['Sport', 'Teams']\n",
      "['Cricket', ['India', 'Australia', 'England', 'South Africa', 'Sri Lanka', 'New Zealand']]\n",
      "[('Sport', 'Cricket'), ('Teams', ['India', 'Australia', 'England', 'South Africa', 'Sri Lanka', 'New Zealand'])]\n"
     ]
    }
   ],
   "source": [
    "#Q8. What are the three view objects in dictionaries? Use the three in-built methods in python to display these three view objects for the given dictionary.\n",
    "#dict1 = {'Sport': 'Cricket', 'Teams': ['India', 'Australia', 'England', 'South Africa', 'Sri Lanka', 'New Zealand']}\n",
    "#In Python, dictionaries have three view objects that provide different views of the dictionary data: keys view, values view, and items view.\n",
    "• keys() view: This view provides a view of the keys of the dictionary.\n",
    "• values() view: This view provides a view of the values of the dictionary.\n",
    "• items() view: This view provides a view of the key-value pairs of the dictionary as tuples.\n",
    "\n",
    "dict1 = {'Sport': 'Cricket', 'Teams': ['India', 'Australia', 'England', 'South Africa', 'Sri Lanka', 'New Zealand']}\n",
    "# keys view\n",
    "keys = dict1.keys()\n",
    "print(list(keys)) # Output: ['Sport', 'Teams']\n",
    "# values view\n",
    "values = dict1.values()\n",
    "print(list(values)) # Output: ['Cricket', ['India', 'Australia', 'England', 'South Africa', 'Sri Lanka', 'New Zealand']]\n",
    "# items view\n",
    "items = dict1.items()\n",
    "print(list(items)) # Output: [('Sport', 'Cricket'), ('Teams', ['India', 'Australia', 'England', 'South Africa', 'Sri Lanka', 'New Zealand'])]\n"
   ]
  },
  {
   "cell_type": "code",
   "execution_count": null,
   "id": "e0116ba8-6c36-4a6e-a597-289f348902b8",
   "metadata": {},
   "outputs": [],
   "source": []
  }
 ],
 "metadata": {
  "kernelspec": {
   "display_name": "Python 3 (ipykernel)",
   "language": "python",
   "name": "python3"
  },
  "language_info": {
   "codemirror_mode": {
    "name": "ipython",
    "version": 3
   },
   "file_extension": ".py",
   "mimetype": "text/x-python",
   "name": "python",
   "nbconvert_exporter": "python",
   "pygments_lexer": "ipython3",
   "version": "3.10.8"
  }
 },
 "nbformat": 4,
 "nbformat_minor": 5
}
